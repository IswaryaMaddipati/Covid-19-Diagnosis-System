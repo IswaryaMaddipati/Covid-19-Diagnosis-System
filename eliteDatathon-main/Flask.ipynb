{
 "cells": [
  {
   "cell_type": "code",
   "execution_count": null,
   "id": "1571391b",
   "metadata": {},
   "outputs": [],
   "source": [
    "### Integrate HTML With Flask\n",
    "### HTTP verb GET And POST\n",
    "from flask import Flask,redirect,url_for,render_template,request\n",
    "\n",
    "app=Flask(__name__)\n",
    "\n",
    "@app.route('/')\n",
    "def welcome():\n",
    "    return render_template('index.html')\n",
    "\n",
    "@app.route('')\n",
    "def success(score):\n",
    "    res=\"\"\n",
    "    if score>=50:\n",
    "        res=\"PASS\"\n",
    "    else:\n",
    "        res=\"FAIL\"\n",
    "\n",
    "    return render_template('result.html',result=res)\n",
    "\n",
    "\n",
    "@app.route('')\n",
    "def fail(score):\n",
    "    return \"The Person has failed and the marks is \"+ str(score)\n",
    "\n",
    "### Result checker\n",
    "@app.route('')\n",
    "def results(marks):\n",
    "    result=\"\"\n",
    "    if marks<50:\n",
    "        result='fail'\n",
    "    else:\n",
    "        result='success'\n",
    "    return redirect(url_for(result,score=marks))\n",
    "\n",
    "### Result checker submit html page\n",
    "@app.route('/submit',methods=['POST','GET'])\n",
    "def submit():\n",
    "    total_score=0\n",
    "    if request.method=='POST':\n",
    "        science=float(request.form['science'])\n",
    "        maths=float(request.form['maths'])\n",
    "        c=float(request.form['c'])\n",
    "        data_science=float(request.form['datascience'])\n",
    "        total_score=(science+maths+c+data_science)/4\n",
    "    res=\"\"\n",
    "    return redirect(url_for('success',score=total_score))\n",
    "\n",
    "if __name__=='__main__':\n",
    "    app.run(debug=True)"
   ]
  },
  {
   "cell_type": "code",
   "execution_count": null,
   "id": "48b7bf85",
   "metadata": {},
   "outputs": [
    {
     "name": "stdout",
     "output_type": "stream",
     "text": [
      " * Serving Flask app \"__main__\" (lazy loading)\n",
      " * Environment: production\n",
      "\u001b[31m   WARNING: This is a development server. Do not use it in a production deployment.\u001b[0m\n",
      "\u001b[2m   Use a production WSGI server instead.\u001b[0m\n",
      " * Debug mode: off\n"
     ]
    },
    {
     "name": "stderr",
     "output_type": "stream",
     "text": [
      " * Running on http://127.0.0.1:5000/ (Press CTRL+C to quit)\n",
      "127.0.0.1 - - [02/Apr/2022 05:38:20] \"GET / HTTP/1.1\" 200 -\n"
     ]
    }
   ],
   "source": [
    "from flask import Flask,redirect,url_for,render_template,request\n",
    "\n",
    "app = Flask(__name__)\n",
    "\n",
    "@app.route('/', methods =[\"GET\", \"POST\"])\n",
    "def gfg():\n",
    "    return render_template(\"index.html\")\n",
    "\n",
    "if __name__=='__main__':\n",
    "    app.run()"
   ]
  },
  {
   "cell_type": "code",
   "execution_count": null,
   "id": "b14595d5",
   "metadata": {},
   "outputs": [],
   "source": []
  }
 ],
 "metadata": {
  "kernelspec": {
   "display_name": "Python 3 (ipykernel)",
   "language": "python",
   "name": "python3"
  },
  "language_info": {
   "codemirror_mode": {
    "name": "ipython",
    "version": 3
   },
   "file_extension": ".py",
   "mimetype": "text/x-python",
   "name": "python",
   "nbconvert_exporter": "python",
   "pygments_lexer": "ipython3",
   "version": "3.9.7"
  }
 },
 "nbformat": 4,
 "nbformat_minor": 5
}
