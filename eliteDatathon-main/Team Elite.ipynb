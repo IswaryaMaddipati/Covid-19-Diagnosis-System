{
 "cells": [
  {
   "cell_type": "code",
   "execution_count": 2,
   "id": "1959ff31",
   "metadata": {},
   "outputs": [],
   "source": [
    "#Importing Libraries\n",
    "import numpy as np\n",
    "import matplotlib.pyplot as plt\n",
    "import pandas as pd\n",
    "import sklearn\n",
    "import seaborn as sns\n",
    "import pickle\n",
    "from sklearn.model_selection import train_test_split\n",
    "df = pd.read_csv(\"train.csv\")"
   ]
  },
  {
   "cell_type": "code",
   "execution_count": 3,
   "id": "f8c7f5f6",
   "metadata": {},
   "outputs": [
    {
     "data": {
      "text/html": [
       "<div>\n",
       "<style scoped>\n",
       "    .dataframe tbody tr th:only-of-type {\n",
       "        vertical-align: middle;\n",
       "    }\n",
       "\n",
       "    .dataframe tbody tr th {\n",
       "        vertical-align: top;\n",
       "    }\n",
       "\n",
       "    .dataframe thead th {\n",
       "        text-align: right;\n",
       "    }\n",
       "</style>\n",
       "<table border=\"1\" class=\"dataframe\">\n",
       "  <thead>\n",
       "    <tr style=\"text-align: right;\">\n",
       "      <th></th>\n",
       "      <th>GENDER</th>\n",
       "      <th>AGE</th>\n",
       "      <th>WBC</th>\n",
       "      <th>Platelets</th>\n",
       "      <th>Neutrophils</th>\n",
       "      <th>Lymphocytes</th>\n",
       "      <th>Monocytes</th>\n",
       "      <th>Eosinophils</th>\n",
       "      <th>Basophils</th>\n",
       "      <th>CRP</th>\n",
       "      <th>AST</th>\n",
       "      <th>ALT</th>\n",
       "      <th>ALP</th>\n",
       "      <th>GGT</th>\n",
       "      <th>LDH</th>\n",
       "      <th>Class</th>\n",
       "    </tr>\n",
       "  </thead>\n",
       "  <tbody>\n",
       "    <tr>\n",
       "      <th>0</th>\n",
       "      <td>F</td>\n",
       "      <td>70</td>\n",
       "      <td>4.9</td>\n",
       "      <td>145.0</td>\n",
       "      <td>4.0</td>\n",
       "      <td>0.7</td>\n",
       "      <td>0.3</td>\n",
       "      <td>0.0</td>\n",
       "      <td>0.0</td>\n",
       "      <td>87.9</td>\n",
       "      <td>68.0</td>\n",
       "      <td>41.0</td>\n",
       "      <td>89.0</td>\n",
       "      <td>63.0</td>\n",
       "      <td>606.0</td>\n",
       "      <td>1</td>\n",
       "    </tr>\n",
       "    <tr>\n",
       "      <th>1</th>\n",
       "      <td>M</td>\n",
       "      <td>61</td>\n",
       "      <td>11.3</td>\n",
       "      <td>166.0</td>\n",
       "      <td>10.7</td>\n",
       "      <td>0.5</td>\n",
       "      <td>0.1</td>\n",
       "      <td>0.0</td>\n",
       "      <td>0.0</td>\n",
       "      <td>174.3</td>\n",
       "      <td>118.0</td>\n",
       "      <td>95.0</td>\n",
       "      <td>59.0</td>\n",
       "      <td>77.0</td>\n",
       "      <td>808.0</td>\n",
       "      <td>1</td>\n",
       "    </tr>\n",
       "    <tr>\n",
       "      <th>2</th>\n",
       "      <td>F</td>\n",
       "      <td>70</td>\n",
       "      <td>15.8</td>\n",
       "      <td>202.0</td>\n",
       "      <td>13.9</td>\n",
       "      <td>1</td>\n",
       "      <td>0.8</td>\n",
       "      <td>0.0</td>\n",
       "      <td>0.0</td>\n",
       "      <td>43.8</td>\n",
       "      <td>20.0</td>\n",
       "      <td>26.0</td>\n",
       "      <td>80.0</td>\n",
       "      <td>16.0</td>\n",
       "      <td>235.0</td>\n",
       "      <td>0</td>\n",
       "    </tr>\n",
       "    <tr>\n",
       "      <th>3</th>\n",
       "      <td>M</td>\n",
       "      <td>85</td>\n",
       "      <td>10.6</td>\n",
       "      <td>227.0</td>\n",
       "      <td>NaN</td>\n",
       "      <td>NaN</td>\n",
       "      <td>NaN</td>\n",
       "      <td>NaN</td>\n",
       "      <td>NaN</td>\n",
       "      <td>6.3</td>\n",
       "      <td>31.0</td>\n",
       "      <td>16.0</td>\n",
       "      <td>NaN</td>\n",
       "      <td>NaN</td>\n",
       "      <td>NaN</td>\n",
       "      <td>0</td>\n",
       "    </tr>\n",
       "    <tr>\n",
       "      <th>4</th>\n",
       "      <td>F</td>\n",
       "      <td>89</td>\n",
       "      <td>4.5</td>\n",
       "      <td>170.0</td>\n",
       "      <td>3.8</td>\n",
       "      <td>0.5</td>\n",
       "      <td>0.2</td>\n",
       "      <td>0.0</td>\n",
       "      <td>0.0</td>\n",
       "      <td>133.6</td>\n",
       "      <td>57.0</td>\n",
       "      <td>17.0</td>\n",
       "      <td>81.0</td>\n",
       "      <td>19.0</td>\n",
       "      <td>626.0</td>\n",
       "      <td>1</td>\n",
       "    </tr>\n",
       "  </tbody>\n",
       "</table>\n",
       "</div>"
      ],
      "text/plain": [
       "  GENDER  AGE   WBC  Platelets  Neutrophils Lymphocytes  Monocytes  \\\n",
       "0      F   70   4.9      145.0          4.0         0.7        0.3   \n",
       "1      M   61  11.3      166.0         10.7         0.5        0.1   \n",
       "2      F   70  15.8      202.0         13.9           1        0.8   \n",
       "3      M   85  10.6      227.0          NaN         NaN        NaN   \n",
       "4      F   89   4.5      170.0          3.8         0.5        0.2   \n",
       "\n",
       "   Eosinophils  Basophils    CRP    AST   ALT   ALP   GGT    LDH  Class  \n",
       "0          0.0        0.0   87.9   68.0  41.0  89.0  63.0  606.0      1  \n",
       "1          0.0        0.0  174.3  118.0  95.0  59.0  77.0  808.0      1  \n",
       "2          0.0        0.0   43.8   20.0  26.0  80.0  16.0  235.0      0  \n",
       "3          NaN        NaN    6.3   31.0  16.0   NaN   NaN    NaN      0  \n",
       "4          0.0        0.0  133.6   57.0  17.0  81.0  19.0  626.0      1  "
      ]
     },
     "execution_count": 3,
     "metadata": {},
     "output_type": "execute_result"
    }
   ],
   "source": [
    "#Dataframe Head\n",
    "df.head()"
   ]
  },
  {
   "cell_type": "code",
   "execution_count": 4,
   "id": "679f5c57",
   "metadata": {},
   "outputs": [
    {
     "data": {
      "text/plain": [
       "GENDER          object\n",
       "AGE              int64\n",
       "WBC            float64\n",
       "Platelets      float64\n",
       "Neutrophils    float64\n",
       "Lymphocytes    float64\n",
       "Monocytes      float64\n",
       "Eosinophils    float64\n",
       "Basophils      float64\n",
       "CRP            float64\n",
       "AST            float64\n",
       "ALT            float64\n",
       "ALP            float64\n",
       "GGT            float64\n",
       "LDH            float64\n",
       "Class            int64\n",
       "dtype: object"
      ]
     },
     "execution_count": 4,
     "metadata": {},
     "output_type": "execute_result"
    }
   ],
   "source": [
    "#Changing Data types of Lymphocytes\n",
    "df['Lymphocytes'] = pd.to_numeric(df['Lymphocytes'], errors=\"coerce\")\n",
    "df.dtypes"
   ]
  },
  {
   "cell_type": "code",
   "execution_count": 5,
   "id": "3dfa1ace",
   "metadata": {
    "scrolled": true
   },
   "outputs": [
    {
     "name": "stdout",
     "output_type": "stream",
     "text": [
      "[['F' 70 4.9 ... 89.0 63.0 606.0]\n",
      " ['M' 61 11.3 ... 59.0 77.0 808.0]\n",
      " ['F' 70 15.8 ... 80.0 16.0 235.0]\n",
      " ...\n",
      " ['F' 79 6.4 ... nan nan nan]\n",
      " ['M' 80 11.0 ... nan nan 369.0]\n",
      " ['F' 57 10.7 ... nan nan nan]]\n",
      "[1 1 0 0 1 0 0 1 0 1 1 1 0 1 0 1 0 0 0 1 1 0 1 1 1 0 1 1 1 0 1 1 1 1 1 1 1\n",
      " 1 1 0 1 1 0 0 0 1 1 1 1 0 1 1 1 1 1 0 1 1 0 1 1 1 0 1 0 1 1 0 1 1 0 1 1 0\n",
      " 1 0 1 0 1 1 0 1 0 1 1 0 0 0 1 0 0 0 1 1 1 1 1 1 0 0 0 0 1 1 1 1 1 0 1 0 1\n",
      " 0 0 0 1 1 0 1 0 1 1 0 0 0 1 1 0 1 1 1 0 1 1 1 1 1 1 1 1 1 0 0 1 1 0 0 1 0\n",
      " 1 0 1 1 1 1 1 1 0 1 0 1 1 1 0 1 0 1 1 0 0 1 0 1 1 0 1 0 1 0 1 1 0 1 0 1 0\n",
      " 1 1 1 1 0 0 1 0 1 0 1 1 1 1 1 1 1 1 1 0 1 1 1 1 1 1 1 0 1 1 0 1 0 1 0 0 1\n",
      " 1]\n"
     ]
    }
   ],
   "source": [
    "#Independent and Dependent Values\n",
    "X = df.iloc[:, :-1].values\n",
    "y = df.iloc[:, -1].values\n",
    "print(X)\n",
    "print(y)"
   ]
  },
  {
   "cell_type": "code",
   "execution_count": 6,
   "id": "3f9e38ed",
   "metadata": {},
   "outputs": [
    {
     "data": {
      "text/plain": [
       "array([[0, 70, 4.9, ..., 89.0, 63.0, 606.0],\n",
       "       [1, 61, 11.3, ..., 59.0, 77.0, 808.0],\n",
       "       [0, 70, 15.8, ..., 80.0, 16.0, 235.0],\n",
       "       ...,\n",
       "       [0, 79, 6.4, ..., nan, nan, nan],\n",
       "       [1, 80, 11.0, ..., nan, nan, 369.0],\n",
       "       [0, 57, 10.7, ..., nan, nan, nan]], dtype=object)"
      ]
     },
     "execution_count": 6,
     "metadata": {},
     "output_type": "execute_result"
    }
   ],
   "source": [
    "#Encoding Genders\n",
    "from sklearn.preprocessing import LabelEncoder\n",
    "le = LabelEncoder()\n",
    "X[:, 0] = le.fit_transform(X[:, 0])\n",
    "X"
   ]
  },
  {
   "cell_type": "code",
   "execution_count": 7,
   "id": "0f270ae5",
   "metadata": {},
   "outputs": [
    {
     "name": "stdout",
     "output_type": "stream",
     "text": [
      "Imputing row 1/223 with 0 missing, elapsed time: 0.031\n",
      "Imputing row 101/223 with 5 missing, elapsed time: 0.031\n",
      "Imputing row 201/223 with 0 missing, elapsed time: 0.031\n",
      "[KNN] Warning: 14/1561 still missing after imputation, replacing with 0\n",
      "Imputing row 1/223 with 0 missing, elapsed time: 0.016\n",
      "Imputing row 101/223 with 1 missing, elapsed time: 0.016\n",
      "Imputing row 201/223 with 2 missing, elapsed time: 0.031\n",
      "[KNN] Warning: 6/1338 still missing after imputation, replacing with 0\n"
     ]
    },
    {
     "data": {
      "text/plain": [
       "array([[0, 70, 4.9, ..., 89.0, 63.0, 606.0],\n",
       "       [1, 61, 11.3, ..., 59.0, 77.0, 808.0],\n",
       "       [0, 70, 15.8, ..., 80.0, 16.0, 235.0],\n",
       "       ...,\n",
       "       [0, 79, 6.4, ..., 103.97600293345724, 155.76844196845394,\n",
       "        250.28054237828482],\n",
       "       [1, 80, 11.0, ..., 61.96872144432207, 87.52748173006626, 369.0],\n",
       "       [0, 57, 10.7, ..., 75.82438209293588, 42.18204029579862,\n",
       "        524.0510923951251]], dtype=object)"
      ]
     },
     "execution_count": 7,
     "metadata": {},
     "output_type": "execute_result"
    }
   ],
   "source": [
    "#Imputation\n",
    "\n",
    "from fancyimpute import KNN \n",
    "knn_imputer = KNN()\n",
    "\n",
    "#WBC\n",
    "X[:, 2:9] = knn_imputer.fit_transform(X[:, 2:9])\n",
    "\n",
    "#Enzymes\n",
    "X[:, 9:] = knn_imputer.fit_transform(X[:, 9:])\n",
    "X"
   ]
  },
  {
   "cell_type": "code",
   "execution_count": 8,
   "id": "e8685fbe",
   "metadata": {},
   "outputs": [],
   "source": [
    "import sklearn.metrics"
   ]
  },
  {
   "cell_type": "code",
   "execution_count": 14,
   "id": "c1bad633",
   "metadata": {},
   "outputs": [],
   "source": [
    "from sklearn.model_selection import train_test_split\n",
    "X_train, X_test, y_train, y_test = train_test_split(X, y, test_size=0.33, random_state=42)"
   ]
  },
  {
   "cell_type": "code",
   "execution_count": 34,
   "id": "b3232963",
   "metadata": {},
   "outputs": [
    {
     "name": "stdout",
     "output_type": "stream",
     "text": [
      "Accuracy 77.02702702702703 %\n"
     ]
    }
   ],
   "source": [
    "#SVM Model \n",
    "from sklearn.model_selection import train_test_split\n",
    "\n",
    "from sklearn.svm import SVC\n",
    "\n",
    "svc_model = SVC(C= .1, kernel='linear', gamma= 1)\n",
    "svc_model.fit(X_train, y_train)\n",
    "\n",
    "print('Accuracy', svc_model.score(X_test, y_test)*100, '%')\n",
    "\n",
    "file = open(\"svm_pickle\", \"wb\")\n",
    "pickle.dump(svc_model, file)\n",
    "file.close()"
   ]
  },
  {
   "cell_type": "code",
   "execution_count": 35,
   "id": "38ba293f",
   "metadata": {},
   "outputs": [
    {
     "name": "stdout",
     "output_type": "stream",
     "text": [
      "Accuracy 77.02702702702703 %\n"
     ]
    },
    {
     "name": "stderr",
     "output_type": "stream",
     "text": [
      "C:\\Users\\eswar\\anaconda3\\lib\\site-packages\\sklearn\\linear_model\\_logistic.py:763: ConvergenceWarning: lbfgs failed to converge (status=1):\n",
      "STOP: TOTAL NO. of ITERATIONS REACHED LIMIT.\n",
      "\n",
      "Increase the number of iterations (max_iter) or scale the data as shown in:\n",
      "    https://scikit-learn.org/stable/modules/preprocessing.html\n",
      "Please also refer to the documentation for alternative solver options:\n",
      "    https://scikit-learn.org/stable/modules/linear_model.html#logistic-regression\n",
      "  n_iter_i = _check_optimize_result(\n"
     ]
    }
   ],
   "source": [
    "#Logistic Regression\n",
    "from sklearn.linear_model import LogisticRegression\n",
    "\n",
    "lr = LogisticRegression(random_state=0).fit(X_train, y_train)\n",
    "\n",
    "print('Accuracy', lr.score(X_test, y_test)*100, '%')\n",
    "\n",
    "file = open(\"lr_pickle\", \"wb\")\n",
    "pickle.dump(lr, file)\n",
    "file.close()"
   ]
  },
  {
   "cell_type": "code",
   "execution_count": 36,
   "id": "17328a8b",
   "metadata": {},
   "outputs": [
    {
     "name": "stdout",
     "output_type": "stream",
     "text": [
      "Accuracy 72.97297297297297 %\n"
     ]
    }
   ],
   "source": [
    "#Random Forest\n",
    "from sklearn.ensemble import RandomForestClassifier\n",
    "rf = RandomForestClassifier(max_depth=2, random_state=0)\n",
    "rf.fit(X_train, y_train)\n",
    "\n",
    "print('Accuracy', rf.score(X_test, y_test)*100, '%')\n",
    "\n",
    "file = open(\"rf_pickle\", \"wb\")\n",
    "pickle.dump(rf, file)\n",
    "file.close()"
   ]
  },
  {
   "cell_type": "code",
   "execution_count": 37,
   "id": "60492ee6",
   "metadata": {},
   "outputs": [
    {
     "name": "stdout",
     "output_type": "stream",
     "text": [
      "Accuracy 70.27027027027027 %\n"
     ]
    }
   ],
   "source": [
    "#Decision Tree\n",
    "from sklearn import tree\n",
    "dt = tree.DecisionTreeClassifier()\n",
    "dt = dt.fit(X_train, y_train)\n",
    "\n",
    "y_pred = dt.predict(X_test)\n",
    "\n",
    "print('Accuracy', dt.score(X_test, y_test)*100, '%')\n",
    "\n",
    "file = open(\"dt_pickle\", \"wb\")\n",
    "pickle.dump(dt, file)\n",
    "file.close()"
   ]
  },
  {
   "cell_type": "code",
   "execution_count": 57,
   "id": "b6cd2f8d",
   "metadata": {},
   "outputs": [
    {
     "name": "stderr",
     "output_type": "stream",
     "text": [
      "C:\\Users\\eswar\\anaconda3\\lib\\site-packages\\xgboost\\sklearn.py:1224: UserWarning: The use of label encoder in XGBClassifier is deprecated and will be removed in a future release. To remove this warning, do the following: 1) Pass option use_label_encoder=False when constructing XGBClassifier object; and 2) Encode your labels (y) as integers starting with 0, i.e. 0, 1, 2, ..., [num_class - 1].\n",
      "  warnings.warn(label_encoder_deprecation_msg, UserWarning)\n",
      "C:\\Users\\eswar\\anaconda3\\lib\\site-packages\\xgboost\\sklearn.py:1224: UserWarning: The use of label encoder in XGBClassifier is deprecated and will be removed in a future release. To remove this warning, do the following: 1) Pass option use_label_encoder=False when constructing XGBClassifier object; and 2) Encode your labels (y) as integers starting with 0, i.e. 0, 1, 2, ..., [num_class - 1].\n",
      "  warnings.warn(label_encoder_deprecation_msg, UserWarning)\n",
      "C:\\Users\\eswar\\anaconda3\\lib\\site-packages\\xgboost\\sklearn.py:1224: UserWarning: The use of label encoder in XGBClassifier is deprecated and will be removed in a future release. To remove this warning, do the following: 1) Pass option use_label_encoder=False when constructing XGBClassifier object; and 2) Encode your labels (y) as integers starting with 0, i.e. 0, 1, 2, ..., [num_class - 1].\n",
      "  warnings.warn(label_encoder_deprecation_msg, UserWarning)\n",
      "C:\\Users\\eswar\\anaconda3\\lib\\site-packages\\xgboost\\sklearn.py:1224: UserWarning: The use of label encoder in XGBClassifier is deprecated and will be removed in a future release. To remove this warning, do the following: 1) Pass option use_label_encoder=False when constructing XGBClassifier object; and 2) Encode your labels (y) as integers starting with 0, i.e. 0, 1, 2, ..., [num_class - 1].\n",
      "  warnings.warn(label_encoder_deprecation_msg, UserWarning)\n",
      "C:\\Users\\eswar\\anaconda3\\lib\\site-packages\\xgboost\\sklearn.py:1224: UserWarning: The use of label encoder in XGBClassifier is deprecated and will be removed in a future release. To remove this warning, do the following: 1) Pass option use_label_encoder=False when constructing XGBClassifier object; and 2) Encode your labels (y) as integers starting with 0, i.e. 0, 1, 2, ..., [num_class - 1].\n",
      "  warnings.warn(label_encoder_deprecation_msg, UserWarning)\n",
      "C:\\Users\\eswar\\anaconda3\\lib\\site-packages\\xgboost\\sklearn.py:1224: UserWarning: The use of label encoder in XGBClassifier is deprecated and will be removed in a future release. To remove this warning, do the following: 1) Pass option use_label_encoder=False when constructing XGBClassifier object; and 2) Encode your labels (y) as integers starting with 0, i.e. 0, 1, 2, ..., [num_class - 1].\n",
      "  warnings.warn(label_encoder_deprecation_msg, UserWarning)\n"
     ]
    },
    {
     "name": "stdout",
     "output_type": "stream",
     "text": [
      "Accuracy 88.88888888888889 %\n"
     ]
    }
   ],
   "source": [
    "#XG Boost\n",
    "import xgboost\n",
    "from sklearn.metrics import accuracy_score\n",
    "from sklearn.model_selection import cross_val_score\n",
    "xg = xgboost.XGBClassifier(learning_rate=0.1, max_depth=5, n_estimators=5000, subsample=0.5, colsample_bytree=0.5, eval_metric='auc', verbosity=1)\n",
    "xg.fit(X_train, y_train)\n",
    "\n",
    "print('Accuracy', max(cross_val_score(xg, X, y))*100, '%')\n",
    "\n",
    "file = open(\"xg_pickle\", \"wb\")\n",
    "pickle.dump(xg, file)\n",
    "file.close()"
   ]
  },
  {
   "cell_type": "code",
   "execution_count": null,
   "id": "ef3266c6",
   "metadata": {},
   "outputs": [],
   "source": []
  }
 ],
 "metadata": {
  "kernelspec": {
   "display_name": "Python 3 (ipykernel)",
   "language": "python",
   "name": "python3"
  },
  "language_info": {
   "codemirror_mode": {
    "name": "ipython",
    "version": 3
   },
   "file_extension": ".py",
   "mimetype": "text/x-python",
   "name": "python",
   "nbconvert_exporter": "python",
   "pygments_lexer": "ipython3",
   "version": "3.9.7"
  }
 },
 "nbformat": 4,
 "nbformat_minor": 5
}
